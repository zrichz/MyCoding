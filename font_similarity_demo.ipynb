{
 "cells": [
  {
   "cell_type": "markdown",
   "id": "d4e128dd",
   "metadata": {},
   "source": [
    "# Font Similarity ASCII Art - Ubuntu Font Discovery\n",
    "\n",
    "This notebook demonstrates the **Font Similarity ASCII Art Generator** and explores the available fonts on your Ubuntu system.\n",
    "\n",
    "## Overview\n",
    "\n",
    "The Font Similarity ASCII Art tool creates ASCII art by:\n",
    "1. **Rendering each character** from your selected font as an 8×8 bitmap\n",
    "2. **Dividing your image** into uniform N×N grid chunks (8, 16, 32, or 64 pixels)\n",
    "3. **Calculating least-squares error** between each image chunk and character bitmaps\n",
    "4. **Selecting the character** with the lowest error (best visual match)\n",
    "\n",
    "This produces ASCII art that matches actual character shapes, not just brightness levels!"
   ]
  },
  {
   "cell_type": "markdown",
   "id": "8bc767ee",
   "metadata": {},
   "source": [
    "## 1. System TrueType Fonts\n",
    "\n",
    "Let's explore the TrueType fonts available on your Ubuntu system. These are located in `/usr/share/fonts/truetype/`."
   ]
  },
  {
   "cell_type": "code",
   "execution_count": null,
   "id": "3aacc06c",
   "metadata": {},
   "outputs": [],
   "source": [
    "import os\n",
    "import glob\n",
    "from pathlib import Path\n",
    "\n",
    "# List font families in /usr/share/fonts/truetype/\n",
    "truetype_dir = \"/usr/share/fonts/truetype/\"\n",
    "\n",
    "print(\"📁 Available TrueType Font Families:\")\n",
    "print(\"=\" * 50)\n",
    "\n",
    "if os.path.exists(truetype_dir):\n",
    "    font_families = os.listdir(truetype_dir)\n",
    "    for family in sorted(font_families):\n",
    "        family_path = os.path.join(truetype_dir, family)\n",
    "        if os.path.isdir(family_path):\n",
    "            # Count TTF files in each family\n",
    "            ttf_files = glob.glob(os.path.join(family_path, \"*.ttf\"))\n",
    "            print(f\"🔤 {family:<15} ({len(ttf_files)} fonts)\")\n",
    "            \n",
    "            # Show a few example font files\n",
    "            for ttf_file in ttf_files[:3]:  # Show first 3 files\n",
    "                filename = os.path.basename(ttf_file)\n",
    "                print(f\"   └─ {filename}\")\n",
    "            if len(ttf_files) > 3:\n",
    "                print(f\"   └─ ... and {len(ttf_files) - 3} more\")\n",
    "            print()\n",
    "else:\n",
    "    print(\"❌ TrueType fonts directory not found!\")"
   ]
  },
  {
   "cell_type": "markdown",
   "id": "d88d5824",
   "metadata": {},
   "source": [
    "## 3. User Font Directories\n",
    "\n",
    "User fonts are typically stored in personal directories. Let's check the standard locations:"
   ]
  }
 ],
 "metadata": {
  "language_info": {
   "name": "python"
  }
 },
 "nbformat": 4,
 "nbformat_minor": 5
}
