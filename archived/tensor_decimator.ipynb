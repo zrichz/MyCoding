{
 "cells": [
  {
   "cell_type": "code",
   "execution_count": 1,
   "metadata": {},
   "outputs": [
    {
     "name": "stdout",
     "output_type": "stream",
     "text": [
      "tensor([[ 1,  2,  3,  8,  7,  6,  5],\n",
      "        [ 6,  1,  2,  3,  8,  9, 10],\n",
      "        [11, 16, 17, 18, 19, 13, 14]])\n",
      "tensor([[ 0,  0,  0,  8,  0,  0,  0],\n",
      "        [ 0,  0,  0,  3,  0,  0,  0],\n",
      "        [ 0,  0,  0, 18,  0,  0,  0]])\n"
     ]
    }
   ],
   "source": [
    "import torch\n",
    "\n",
    "def apply_mask_to_tensor(X, mask_length, set_nth_to_zero=True):\n",
    "    '''\n",
    "This function takes a tensor, and a mask length integer, and an additional parameter set_nth_to_zero.\n",
    "It returns an amended tensor.\n",
    "mask is created based on a specified length. \n",
    "If set_nth_to_zero is True, function sets every nth element to zero.\n",
    "If False, function sets all elements but nth to zero.\n",
    "\n",
    "order of decimation would be:\n",
    "\n",
    "    params      result\n",
    "--------------------------------\n",
    "    4,True:     1,2,3,0...  every 4th element set to zero\n",
    "    3,True:     1,2,0,4...  every 3rd element set to zero\n",
    "    2,True:     1,0,3,0...  every 2nd element set to zero\n",
    "    2,False:    0,2,0,4...  (similar to '2,True', but invert)\n",
    "    3,False:    0,0,3,0...  2 of 3 elements set to zero\n",
    "    4,False:    0,0,0,4...  3 of 4 elements set to zero\n",
    "'''\n",
    "\n",
    "# Create a mask pattern with n-1 False values and 1 True value at the end\n",
    "# If 'set_nth_to_zero' is False, INVERT the mask pattern\n",
    "    mask_pattern = [False] * (mask_length - 1) + [True]\n",
    "    if not set_nth_to_zero:\n",
    "        mask_pattern = [not elem for elem in mask_pattern]\n",
    "\n",
    "    # Create a mask (a tensor) with a multiple of n columns \n",
    "    mask = torch.tensor(mask_pattern * (X.shape[1] // mask_length))\n",
    "\n",
    "    # Append the necessary number of elements to the mask to match the number of columns in X\n",
    "    mask = torch.cat((mask, torch.tensor(mask_pattern[:X.shape[1] % mask_length])))\n",
    "\n",
    "    # Apply the mask to each row of tensor X\n",
    "    for i in range(X.shape[0]):\n",
    "        X[i, mask] = 0\n",
    "    \n",
    "    return X # Return the amended tensor\n",
    "\n",
    "\n",
    "# Example usage\n",
    "X = torch.tensor([[1, 2, 3, 8,7,6,5], [6, 1,2,3,8, 9, 10], [11 ,16,17,18,19, 13, 14]])\n",
    "print(X)\n",
    "mask_length = 4 # must be an integer greater than 1.\n",
    "\n",
    "X = apply_mask_to_tensor(X, mask_length, False)\n",
    "print(X)"
   ]
  }
 ],
 "metadata": {
  "kernelspec": {
   "display_name": "venv",
   "language": "python",
   "name": "python3"
  },
  "language_info": {
   "codemirror_mode": {
    "name": "ipython",
    "version": 3
   },
   "file_extension": ".py",
   "mimetype": "text/x-python",
   "name": "python",
   "nbconvert_exporter": "python",
   "pygments_lexer": "ipython3",
   "version": "3.11.6"
  }
 },
 "nbformat": 4,
 "nbformat_minor": 2
}
