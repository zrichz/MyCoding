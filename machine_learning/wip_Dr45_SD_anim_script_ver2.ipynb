{
 "cells": [
  {
   "cell_type": "code",
   "execution_count": 1,
   "metadata": {},
   "outputs": [
    {
     "name": "stderr",
     "output_type": "stream",
     "text": [
      "A matching Triton is not available, some optimizations will not be enabled\n",
      "Traceback (most recent call last):\n",
      "  File \"c:\\MyPythonCoding\\MyDeepLearningCoding\\myDLvenv1\\lib\\site-packages\\xformers\\__init__.py\", line 55, in _is_triton_available\n",
      "    from xformers.triton.softmax import softmax as triton_softmax  # noqa\n",
      "  File \"c:\\MyPythonCoding\\MyDeepLearningCoding\\myDLvenv1\\lib\\site-packages\\xformers\\triton\\softmax.py\", line 11, in <module>\n",
      "    import triton\n",
      "ModuleNotFoundError: No module named 'triton'\n"
     ]
    },
    {
     "name": "stdout",
     "output_type": "stream",
     "text": [
      "Using device: cuda\n"
     ]
    }
   ],
   "source": [
    "'''\n",
    "Runs SD via diffusers, creates a series of frames, each frame is transformed in some way and feedback occurs, and saves an avi at the end\n",
    "from original script by Dr47. Apr/May 2024\n",
    "'''\n",
    "#import libraries\n",
    "import os\n",
    "import time \n",
    "import argparse\n",
    "from PIL import Image\n",
    "from diffusers import AutoPipelineForText2Image\n",
    "from diffusers import StableDiffusionImg2ImgPipeline\n",
    "import torch\n",
    "import imageio\n",
    "import sys      # provides access to some vars used or maintained by Python interpreter, and to functions that interact with it.\n",
    "from xformers.ops import MemoryEfficientAttentionFlashAttentionOp # Enable memory efficient attention from xFormers.(not working atm)\n",
    "import numpy as np\n",
    "from scipy.ndimage import zoom\n",
    "\n",
    "#check cuda availability\n",
    "if torch.cuda.is_available():\n",
    "    device = torch.device('cuda')\n",
    "else:\n",
    "    device = torch.device('cpu')\n",
    "print('Using device:', device)"
   ]
  },
  {
   "cell_type": "code",
   "execution_count": 2,
   "metadata": {},
   "outputs": [],
   "source": [
    "# MAIN PARAMETERS CAN BE CHANGED HERE\n",
    "zoom_fac    = 1.000                     # zoom factor for each frame\n",
    "frames      = 90                        # number of frames\n",
    "prompt      = 'a painting of the old Boathouse deli at John\"s, Appledore,mid-century, coastal palette, sunny' # prompt for the text to image model"
   ]
  },
  {
   "cell_type": "code",
   "execution_count": 3,
   "metadata": {},
   "outputs": [],
   "source": [
    "#define model and pipeline\n",
    "\n",
    "#optimisation trick #1 - Use TensorFloat-32\n",
    "'''PyTorch enables TF32 mode for convolutions, but NOT for matmul. Enabling it can \n",
    "significantly (eg: 24% on RTX3070) speed up computations with minimal loss in numerical accuracy.\n",
    "'''\n",
    "torch.backends.cuda.matmul.allow_tf32 = True\n",
    "\n",
    "args = None\n",
    "\n",
    "# path to SD1.5 model\n",
    "SD15_MODEL = \"D:/_DUPLICATED/_duplicatedOnSSDgate_1TB/SD_CKPTS_used_by_Auto1111/realisticVisionV51_v51VAE.safetensors\"\n",
    "\n",
    "LOOP_COUNT = 4 # Number of times to loop the final animation (results in loop count +1)\n",
    "\n",
    "# Define pipeline (half-precision weights for faster execution)\n",
    "def get_pipeline():\n",
    "    return (\n",
    "        StableDiffusionImg2ImgPipeline.from_single_file( SD15_MODEL, torch_dtype=torch.float16 ).to(\"cuda\"),\n",
    "        \n",
    "        AutoPipelineForText2Image.from_pretrained(\"runwayml/stable-diffusion-v1-5\", torch_dtype=torch.float16,\n",
    "            variant=\"fp16\", use_safetensors=True, safety_checker=None,   ).to(\"cuda\")    )"
   ]
  },
  {
   "cell_type": "code",
   "execution_count": 4,
   "metadata": {},
   "outputs": [],
   "source": [
    "# function to Generate the image\n",
    "def fn_generate(input_path, prompt, pipeline):\n",
    "    init_image = None\n",
    "    if input_path:\n",
    "        # Load the input image\n",
    "        init_image = Image.open(input_path).convert(\"RGB\")\n",
    "    # Generate the output image\n",
    "    return pipeline( prompt=prompt, image=init_image, strength=args.strength,\n",
    "        num_inference_steps=args.num_inference_steps, guidance_scale=args.guidance_scale,\n",
    "        generator=( torch.Generator(device=\"cuda\").manual_seed(args.seed) if args.seed else None ) ).images[0]"
   ]
  },
  {
   "cell_type": "code",
   "execution_count": 5,
   "metadata": {},
   "outputs": [],
   "source": [
    "def fn_transform_frame(np_image,zoom_fac): #expects a numpy array\n",
    "    # Shrink the image\n",
    "    zoomed_img = zoom(np_image, (zoom_fac, zoom_fac, 1))\n",
    "    zoomed_w = zoomed_img.shape[1]\n",
    "    zoomed_h = zoomed_img.shape[0]\n",
    "\n",
    "    # Create a placeholder image - make it larger to accommodate the zoomed image\n",
    "    new_img = np.zeros((768, 768, 3), dtype=np.uint8)\n",
    "    new_w = new_img.shape[1]\n",
    "    new_h = new_img.shape[0]\n",
    "\n",
    "    # Calculate the start indices for the zoomed image\n",
    "    start_i = (new_h - zoomed_h) // 2\n",
    "    start_j = (new_w - zoomed_w) // 2\n",
    "\n",
    "    # Copy the zoomed image into center of new image\n",
    "    new_img[start_i:start_i+zoomed_h, start_j:start_j+zoomed_w] = zoomed_img\n",
    "\n",
    "    #shift the image 4 pixels to the right\n",
    "    #new_img = np.roll(new_img, 12, axis=1)\n",
    "    \n",
    "    # Add white noise to the black pixels at borders (if present)\n",
    "    black_pixels = (new_img == [0, 0, 0]).all(axis=-1)\n",
    "    low = 0 # range of noise values to make white noise less contrasty\n",
    "    high = 255\n",
    "    new_img[black_pixels] = np.random.randint(low,high, size=(black_pixels.sum(), 3), dtype=np.uint8)\n",
    "\n",
    "    # add white noise to 5% of the pixels\n",
    "    noise_pixels = np.random.rand(new_h, new_w) < 0.05\n",
    "    new_img[noise_pixels] = np.random.randint(low,high, size=(noise_pixels.sum(), 3), dtype=np.uint8)\n",
    "\n",
    "    # # swap 5% of pixels with each other\n",
    "    # swap_pixels = np.random.rand(new_h, new_w) < 0.05\n",
    "    # swap_indices = np.random.randint(0, new_h, size=(swap_pixels.sum(), 2))\n",
    "    # new_img[swap_pixels] = new_img[swap_indices[:,0], swap_indices[:,1]]\n",
    "    \n",
    "    #crop image to 512x512\n",
    "    new_img = new_img[128:640, 128:640]\n",
    "\n",
    "    # Convert np array back to image and save\n",
    "    f = Image.fromarray(new_img)\n",
    "\n",
    "    return f\n"
   ]
  },
  {
   "cell_type": "code",
   "execution_count": 6,
   "metadata": {},
   "outputs": [],
   "source": [
    "def fn_check_pipeline():\n",
    "    img2img_pipeline = get_pipeline() # Check if the pipeline is working\n",
    "    #print(f\"img2img_pipeline: {img2img_pipeline}\")\n",
    "    print(f\"img2img_pipeline: {str(img2img_pipeline)[:100]}\") # print the first 100 characters of the pipeline\n",
    "    \n",
    "    if img2img_pipeline is None:\n",
    "        raise ValueError(\"pipeline for img2img has issues\")\n",
    "    return\n",
    "#fn_check_pipeline()     #test the pipeline"
   ]
  },
  {
   "cell_type": "code",
   "execution_count": 7,
   "metadata": {},
   "outputs": [],
   "source": [
    "#create argument parser\n",
    "class Args():\n",
    "    init_image = None\n",
    "    output_path = \"output-frames\"\n",
    "    count = frames  # number of frames to generate\n",
    "    prompt = prompt # prompt for the text to image model\n",
    "    strength = 0.65 # was 0.65\n",
    "    seed = None\n",
    "    num_inference_steps = 12\n",
    "    guidance_scale = 8\n",
    "    skip_frame_generation = False\n",
    "    model = \"SD15\"\n",
    "\n",
    "args = Args()"
   ]
  },
  {
   "cell_type": "code",
   "execution_count": 8,
   "metadata": {},
   "outputs": [
    {
     "name": "stderr",
     "output_type": "stream",
     "text": [
      "Some weights of the model checkpoint were not used when initializing CLIPTextModel: \n",
      " ['text_model.embeddings.position_ids']\n",
      "You have disabled the safety checker for <class 'diffusers.pipelines.stable_diffusion.pipeline_stable_diffusion_img2img.StableDiffusionImg2ImgPipeline'> by passing `safety_checker=None`. Ensure that you abide to the conditions of the Stable Diffusion license and do not expose unfiltered results in services or applications open to the public. Both the diffusers team and Hugging Face strongly recommend to keep the safety filter enabled in all public facing circumstances, disabling it only for use-cases that involve analyzing network behavior or auditing its results. For more information, please have a look at https://github.com/huggingface/diffusers/pull/254 .\n"
     ]
    },
    {
     "data": {
      "application/vnd.jupyter.widget-view+json": {
       "model_id": "0d3fd61987d44bc48001b97e9bd40f9a",
       "version_major": 2,
       "version_minor": 0
      },
      "text/plain": [
       "Loading pipeline components...:   0%|          | 0/6 [00:00<?, ?it/s]"
      ]
     },
     "metadata": {},
     "output_type": "display_data"
    },
    {
     "name": "stderr",
     "output_type": "stream",
     "text": [
      "You have disabled the safety checker for <class 'diffusers.pipelines.stable_diffusion.pipeline_stable_diffusion.StableDiffusionPipeline'> by passing `safety_checker=None`. Ensure that you abide to the conditions of the Stable Diffusion license and do not expose unfiltered results in services or applications open to the public. Both the diffusers team and Hugging Face strongly recommend to keep the safety filter enabled in all public facing circumstances, disabling it only for use-cases that involve analyzing network behavior or auditing its results. For more information, please have a look at https://github.com/huggingface/diffusers/pull/254 .\n"
     ]
    },
    {
     "name": "stdout",
     "output_type": "stream",
     "text": [
      "pipelines have been gotten!\n"
     ]
    },
    {
     "data": {
      "application/vnd.jupyter.widget-view+json": {
       "model_id": "266ad04202bf4ee8a51fd447fe63fd83",
       "version_major": 2,
       "version_minor": 0
      },
      "text/plain": [
       "  0%|          | 0/12 [00:00<?, ?it/s]"
      ]
     },
     "metadata": {},
     "output_type": "display_data"
    },
    {
     "name": "stderr",
     "output_type": "stream",
     "text": [
      "c:\\MyPythonCoding\\MyDeepLearningCoding\\myDLvenv1\\lib\\site-packages\\diffusers\\models\\attention_processor.py:1279: UserWarning: 1Torch was not compiled with flash attention. (Triggered internally at ..\\aten\\src\\ATen\\native\\transformers\\cuda\\sdp_utils.cpp:263.)\n",
      "  hidden_states = F.scaled_dot_product_attention(\n"
     ]
    },
    {
     "name": "stdout",
     "output_type": "stream",
     "text": [
      "starting the clock!...\n",
      "Generating image from output-frames\\frame_0000.png and saving as output-frames\\frame_0001.png...\n"
     ]
    },
    {
     "data": {
      "application/vnd.jupyter.widget-view+json": {
       "model_id": "cbbf9a327432402bb8c202141d01a907",
       "version_major": 2,
       "version_minor": 0
      },
      "text/plain": [
       "  0%|          | 0/7 [00:00<?, ?it/s]"
      ]
     },
     "metadata": {},
     "output_type": "display_data"
    },
    {
     "name": "stdout",
     "output_type": "stream",
     "text": [
      "Generating image from output-frames\\frame_0001.png and saving as output-frames\\frame_0002.png...\n"
     ]
    },
    {
     "data": {
      "application/vnd.jupyter.widget-view+json": {
       "model_id": "f7a0ec661cce4f1498976bbed61c1004",
       "version_major": 2,
       "version_minor": 0
      },
      "text/plain": [
       "  0%|          | 0/7 [00:00<?, ?it/s]"
      ]
     },
     "metadata": {},
     "output_type": "display_data"
    },
    {
     "name": "stdout",
     "output_type": "stream",
     "text": [
      "Generating image from output-frames\\frame_0002.png and saving as output-frames\\frame_0003.png...\n"
     ]
    },
    {
     "data": {
      "application/vnd.jupyter.widget-view+json": {
       "model_id": "65e8c67b4947467787217bed5b06228b",
       "version_major": 2,
       "version_minor": 0
      },
      "text/plain": [
       "  0%|          | 0/7 [00:00<?, ?it/s]"
      ]
     },
     "metadata": {},
     "output_type": "display_data"
    },
    {
     "name": "stdout",
     "output_type": "stream",
     "text": [
      "Generating image from output-frames\\frame_0003.png and saving as output-frames\\frame_0004.png...\n"
     ]
    },
    {
     "data": {
      "application/vnd.jupyter.widget-view+json": {
       "model_id": "fba81496508e4260ac1e132f59d748f6",
       "version_major": 2,
       "version_minor": 0
      },
      "text/plain": [
       "  0%|          | 0/7 [00:00<?, ?it/s]"
      ]
     },
     "metadata": {},
     "output_type": "display_data"
    },
    {
     "name": "stdout",
     "output_type": "stream",
     "text": [
      "Generating image from output-frames\\frame_0004.png and saving as output-frames\\frame_0005.png...\n"
     ]
    },
    {
     "data": {
      "application/vnd.jupyter.widget-view+json": {
       "model_id": "4bfe96c63e764a45b3fefcb79da1436f",
       "version_major": 2,
       "version_minor": 0
      },
      "text/plain": [
       "  0%|          | 0/7 [00:00<?, ?it/s]"
      ]
     },
     "metadata": {},
     "output_type": "display_data"
    },
    {
     "name": "stdout",
     "output_type": "stream",
     "text": [
      "Generating image from output-frames\\frame_0005.png and saving as output-frames\\frame_0006.png...\n"
     ]
    },
    {
     "data": {
      "application/vnd.jupyter.widget-view+json": {
       "model_id": "34ae05c45b334eda8f0f3c8a3056a015",
       "version_major": 2,
       "version_minor": 0
      },
      "text/plain": [
       "  0%|          | 0/7 [00:00<?, ?it/s]"
      ]
     },
     "metadata": {},
     "output_type": "display_data"
    },
    {
     "name": "stdout",
     "output_type": "stream",
     "text": [
      "Generating image from output-frames\\frame_0006.png and saving as output-frames\\frame_0007.png...\n"
     ]
    },
    {
     "data": {
      "application/vnd.jupyter.widget-view+json": {
       "model_id": "8d3f7ec8eabf49038fa7fc25b2c8bc2f",
       "version_major": 2,
       "version_minor": 0
      },
      "text/plain": [
       "  0%|          | 0/7 [00:00<?, ?it/s]"
      ]
     },
     "metadata": {},
     "output_type": "display_data"
    },
    {
     "name": "stdout",
     "output_type": "stream",
     "text": [
      "Generating image from output-frames\\frame_0007.png and saving as output-frames\\frame_0008.png...\n"
     ]
    },
    {
     "data": {
      "application/vnd.jupyter.widget-view+json": {
       "model_id": "4fa3a09a9b8b495aabef87a7f8d3d90c",
       "version_major": 2,
       "version_minor": 0
      },
      "text/plain": [
       "  0%|          | 0/7 [00:00<?, ?it/s]"
      ]
     },
     "metadata": {},
     "output_type": "display_data"
    },
    {
     "name": "stdout",
     "output_type": "stream",
     "text": [
      "Generating image from output-frames\\frame_0008.png and saving as output-frames\\frame_0009.png...\n"
     ]
    },
    {
     "data": {
      "application/vnd.jupyter.widget-view+json": {
       "model_id": "4b4885a51bc74306ad70f0594d91ad10",
       "version_major": 2,
       "version_minor": 0
      },
      "text/plain": [
       "  0%|          | 0/7 [00:00<?, ?it/s]"
      ]
     },
     "metadata": {},
     "output_type": "display_data"
    },
    {
     "name": "stdout",
     "output_type": "stream",
     "text": [
      "Generating image from output-frames\\frame_0009.png and saving as output-frames\\frame_0010.png...\n"
     ]
    },
    {
     "data": {
      "application/vnd.jupyter.widget-view+json": {
       "model_id": "636ee0de061d4aacb257ae5d82e22f0a",
       "version_major": 2,
       "version_minor": 0
      },
      "text/plain": [
       "  0%|          | 0/7 [00:00<?, ?it/s]"
      ]
     },
     "metadata": {},
     "output_type": "display_data"
    },
    {
     "name": "stdout",
     "output_type": "stream",
     "text": [
      "Generating image from output-frames\\frame_0010.png and saving as output-frames\\frame_0011.png...\n"
     ]
    },
    {
     "data": {
      "application/vnd.jupyter.widget-view+json": {
       "model_id": "592a7f02050b4e14b7dc2dd1549d2bc5",
       "version_major": 2,
       "version_minor": 0
      },
      "text/plain": [
       "  0%|          | 0/7 [00:00<?, ?it/s]"
      ]
     },
     "metadata": {},
     "output_type": "display_data"
    },
    {
     "name": "stdout",
     "output_type": "stream",
     "text": [
      "Generating image from output-frames\\frame_0011.png and saving as output-frames\\frame_0012.png...\n"
     ]
    },
    {
     "data": {
      "application/vnd.jupyter.widget-view+json": {
       "model_id": "19c107660b2c477e964a5c8e470a6ac1",
       "version_major": 2,
       "version_minor": 0
      },
      "text/plain": [
       "  0%|          | 0/7 [00:00<?, ?it/s]"
      ]
     },
     "metadata": {},
     "output_type": "display_data"
    },
    {
     "name": "stdout",
     "output_type": "stream",
     "text": [
      "Generating image from output-frames\\frame_0012.png and saving as output-frames\\frame_0013.png...\n"
     ]
    },
    {
     "data": {
      "application/vnd.jupyter.widget-view+json": {
       "model_id": "9c96f093a54f4d29afb2af52ff0f0910",
       "version_major": 2,
       "version_minor": 0
      },
      "text/plain": [
       "  0%|          | 0/7 [00:00<?, ?it/s]"
      ]
     },
     "metadata": {},
     "output_type": "display_data"
    },
    {
     "name": "stdout",
     "output_type": "stream",
     "text": [
      "Generating image from output-frames\\frame_0013.png and saving as output-frames\\frame_0014.png...\n"
     ]
    },
    {
     "data": {
      "application/vnd.jupyter.widget-view+json": {
       "model_id": "a3da81074dff45ceb3b1d38bd20a2e8c",
       "version_major": 2,
       "version_minor": 0
      },
      "text/plain": [
       "  0%|          | 0/7 [00:00<?, ?it/s]"
      ]
     },
     "metadata": {},
     "output_type": "display_data"
    },
    {
     "name": "stdout",
     "output_type": "stream",
     "text": [
      "Generating image from output-frames\\frame_0014.png and saving as output-frames\\frame_0015.png...\n"
     ]
    },
    {
     "data": {
      "application/vnd.jupyter.widget-view+json": {
       "model_id": "7ffddf40690e4cdd97cb8571afdfd244",
       "version_major": 2,
       "version_minor": 0
      },
      "text/plain": [
       "  0%|          | 0/7 [00:00<?, ?it/s]"
      ]
     },
     "metadata": {},
     "output_type": "display_data"
    },
    {
     "name": "stdout",
     "output_type": "stream",
     "text": [
      "Generating image from output-frames\\frame_0015.png and saving as output-frames\\frame_0016.png...\n"
     ]
    },
    {
     "data": {
      "application/vnd.jupyter.widget-view+json": {
       "model_id": "a6027da8ec7c4d59a17d6027cdfd5698",
       "version_major": 2,
       "version_minor": 0
      },
      "text/plain": [
       "  0%|          | 0/7 [00:00<?, ?it/s]"
      ]
     },
     "metadata": {},
     "output_type": "display_data"
    },
    {
     "name": "stdout",
     "output_type": "stream",
     "text": [
      "Generating image from output-frames\\frame_0016.png and saving as output-frames\\frame_0017.png...\n"
     ]
    },
    {
     "data": {
      "application/vnd.jupyter.widget-view+json": {
       "model_id": "9f61ee74640b4e4c93c66208d7cfa7c8",
       "version_major": 2,
       "version_minor": 0
      },
      "text/plain": [
       "  0%|          | 0/7 [00:00<?, ?it/s]"
      ]
     },
     "metadata": {},
     "output_type": "display_data"
    },
    {
     "name": "stdout",
     "output_type": "stream",
     "text": [
      "Generating image from output-frames\\frame_0017.png and saving as output-frames\\frame_0018.png...\n"
     ]
    },
    {
     "data": {
      "application/vnd.jupyter.widget-view+json": {
       "model_id": "545e96dcf4604ed98424a8467596845e",
       "version_major": 2,
       "version_minor": 0
      },
      "text/plain": [
       "  0%|          | 0/7 [00:00<?, ?it/s]"
      ]
     },
     "metadata": {},
     "output_type": "display_data"
    },
    {
     "name": "stdout",
     "output_type": "stream",
     "text": [
      "Generating image from output-frames\\frame_0018.png and saving as output-frames\\frame_0019.png...\n"
     ]
    },
    {
     "data": {
      "application/vnd.jupyter.widget-view+json": {
       "model_id": "231870072ace4d1a8c8039f575096a70",
       "version_major": 2,
       "version_minor": 0
      },
      "text/plain": [
       "  0%|          | 0/7 [00:00<?, ?it/s]"
      ]
     },
     "metadata": {},
     "output_type": "display_data"
    },
    {
     "name": "stdout",
     "output_type": "stream",
     "text": [
      "Generating image from output-frames\\frame_0019.png and saving as output-frames\\frame_0020.png...\n"
     ]
    },
    {
     "data": {
      "application/vnd.jupyter.widget-view+json": {
       "model_id": "c538d087fd404f1597bd634232530f22",
       "version_major": 2,
       "version_minor": 0
      },
      "text/plain": [
       "  0%|          | 0/7 [00:00<?, ?it/s]"
      ]
     },
     "metadata": {},
     "output_type": "display_data"
    },
    {
     "name": "stdout",
     "output_type": "stream",
     "text": [
      "Generating image from output-frames\\frame_0020.png and saving as output-frames\\frame_0021.png...\n"
     ]
    },
    {
     "data": {
      "application/vnd.jupyter.widget-view+json": {
       "model_id": "e58c66a089234f17bf9b5d8c4d30e4d8",
       "version_major": 2,
       "version_minor": 0
      },
      "text/plain": [
       "  0%|          | 0/7 [00:00<?, ?it/s]"
      ]
     },
     "metadata": {},
     "output_type": "display_data"
    },
    {
     "name": "stdout",
     "output_type": "stream",
     "text": [
      "Generating image from output-frames\\frame_0021.png and saving as output-frames\\frame_0022.png...\n"
     ]
    },
    {
     "data": {
      "application/vnd.jupyter.widget-view+json": {
       "model_id": "afe4010e3d554e39a85edcab06a6ba62",
       "version_major": 2,
       "version_minor": 0
      },
      "text/plain": [
       "  0%|          | 0/7 [00:00<?, ?it/s]"
      ]
     },
     "metadata": {},
     "output_type": "display_data"
    },
    {
     "name": "stdout",
     "output_type": "stream",
     "text": [
      "Generating image from output-frames\\frame_0022.png and saving as output-frames\\frame_0023.png...\n"
     ]
    },
    {
     "data": {
      "application/vnd.jupyter.widget-view+json": {
       "model_id": "e5546a0b07204ab18a776716a859d04a",
       "version_major": 2,
       "version_minor": 0
      },
      "text/plain": [
       "  0%|          | 0/7 [00:00<?, ?it/s]"
      ]
     },
     "metadata": {},
     "output_type": "display_data"
    },
    {
     "name": "stdout",
     "output_type": "stream",
     "text": [
      "Generating image from output-frames\\frame_0023.png and saving as output-frames\\frame_0024.png...\n"
     ]
    },
    {
     "data": {
      "application/vnd.jupyter.widget-view+json": {
       "model_id": "8fdbdc0977a542a684bfc7853aa6c1ed",
       "version_major": 2,
       "version_minor": 0
      },
      "text/plain": [
       "  0%|          | 0/7 [00:00<?, ?it/s]"
      ]
     },
     "metadata": {},
     "output_type": "display_data"
    },
    {
     "name": "stdout",
     "output_type": "stream",
     "text": [
      "Generating image from output-frames\\frame_0024.png and saving as output-frames\\frame_0025.png...\n"
     ]
    },
    {
     "data": {
      "application/vnd.jupyter.widget-view+json": {
       "model_id": "9bababff7b5b432b97e1ad51f9078622",
       "version_major": 2,
       "version_minor": 0
      },
      "text/plain": [
       "  0%|          | 0/7 [00:00<?, ?it/s]"
      ]
     },
     "metadata": {},
     "output_type": "display_data"
    },
    {
     "name": "stdout",
     "output_type": "stream",
     "text": [
      "Generating image from output-frames\\frame_0025.png and saving as output-frames\\frame_0026.png...\n"
     ]
    },
    {
     "data": {
      "application/vnd.jupyter.widget-view+json": {
       "model_id": "2f783a6a2c6f48b897d40ff8a964f3fb",
       "version_major": 2,
       "version_minor": 0
      },
      "text/plain": [
       "  0%|          | 0/7 [00:00<?, ?it/s]"
      ]
     },
     "metadata": {},
     "output_type": "display_data"
    },
    {
     "name": "stdout",
     "output_type": "stream",
     "text": [
      "Generating image from output-frames\\frame_0026.png and saving as output-frames\\frame_0027.png...\n"
     ]
    },
    {
     "data": {
      "application/vnd.jupyter.widget-view+json": {
       "model_id": "b8ff38e05ec042e98e615dc13c072e2c",
       "version_major": 2,
       "version_minor": 0
      },
      "text/plain": [
       "  0%|          | 0/7 [00:00<?, ?it/s]"
      ]
     },
     "metadata": {},
     "output_type": "display_data"
    },
    {
     "name": "stdout",
     "output_type": "stream",
     "text": [
      "Generating image from output-frames\\frame_0027.png and saving as output-frames\\frame_0028.png...\n"
     ]
    },
    {
     "data": {
      "application/vnd.jupyter.widget-view+json": {
       "model_id": "7663365b2aed4632824b53c39af78fb1",
       "version_major": 2,
       "version_minor": 0
      },
      "text/plain": [
       "  0%|          | 0/7 [00:00<?, ?it/s]"
      ]
     },
     "metadata": {},
     "output_type": "display_data"
    },
    {
     "name": "stdout",
     "output_type": "stream",
     "text": [
      "Generating image from output-frames\\frame_0028.png and saving as output-frames\\frame_0029.png...\n"
     ]
    },
    {
     "data": {
      "application/vnd.jupyter.widget-view+json": {
       "model_id": "d668c342445d495598804362a7f15838",
       "version_major": 2,
       "version_minor": 0
      },
      "text/plain": [
       "  0%|          | 0/7 [00:00<?, ?it/s]"
      ]
     },
     "metadata": {},
     "output_type": "display_data"
    },
    {
     "name": "stdout",
     "output_type": "stream",
     "text": [
      "Generating image from output-frames\\frame_0029.png and saving as output-frames\\frame_0030.png...\n"
     ]
    },
    {
     "data": {
      "application/vnd.jupyter.widget-view+json": {
       "model_id": "681d364b08914873b3366959703c817e",
       "version_major": 2,
       "version_minor": 0
      },
      "text/plain": [
       "  0%|          | 0/7 [00:00<?, ?it/s]"
      ]
     },
     "metadata": {},
     "output_type": "display_data"
    },
    {
     "name": "stdout",
     "output_type": "stream",
     "text": [
      "Generating image from output-frames\\frame_0030.png and saving as output-frames\\frame_0031.png...\n"
     ]
    },
    {
     "data": {
      "application/vnd.jupyter.widget-view+json": {
       "model_id": "6a8b6a2faa2b4b43889cf7a9db3c2b40",
       "version_major": 2,
       "version_minor": 0
      },
      "text/plain": [
       "  0%|          | 0/7 [00:00<?, ?it/s]"
      ]
     },
     "metadata": {},
     "output_type": "display_data"
    },
    {
     "name": "stdout",
     "output_type": "stream",
     "text": [
      "Generating image from output-frames\\frame_0031.png and saving as output-frames\\frame_0032.png...\n"
     ]
    },
    {
     "data": {
      "application/vnd.jupyter.widget-view+json": {
       "model_id": "639143eb0a474b09b2c0113c8c4b0c5f",
       "version_major": 2,
       "version_minor": 0
      },
      "text/plain": [
       "  0%|          | 0/7 [00:00<?, ?it/s]"
      ]
     },
     "metadata": {},
     "output_type": "display_data"
    },
    {
     "name": "stdout",
     "output_type": "stream",
     "text": [
      "Generating image from output-frames\\frame_0032.png and saving as output-frames\\frame_0033.png...\n"
     ]
    },
    {
     "data": {
      "application/vnd.jupyter.widget-view+json": {
       "model_id": "246bff8fbe64449eab0254bc6410469d",
       "version_major": 2,
       "version_minor": 0
      },
      "text/plain": [
       "  0%|          | 0/7 [00:00<?, ?it/s]"
      ]
     },
     "metadata": {},
     "output_type": "display_data"
    },
    {
     "name": "stdout",
     "output_type": "stream",
     "text": [
      "Generating image from output-frames\\frame_0033.png and saving as output-frames\\frame_0034.png...\n"
     ]
    },
    {
     "data": {
      "application/vnd.jupyter.widget-view+json": {
       "model_id": "500d18ce1d3949989a8cd18fc447271d",
       "version_major": 2,
       "version_minor": 0
      },
      "text/plain": [
       "  0%|          | 0/7 [00:00<?, ?it/s]"
      ]
     },
     "metadata": {},
     "output_type": "display_data"
    },
    {
     "name": "stdout",
     "output_type": "stream",
     "text": [
      "Generating image from output-frames\\frame_0034.png and saving as output-frames\\frame_0035.png...\n"
     ]
    },
    {
     "data": {
      "application/vnd.jupyter.widget-view+json": {
       "model_id": "1e8dd68650204843a13f9911c50939e2",
       "version_major": 2,
       "version_minor": 0
      },
      "text/plain": [
       "  0%|          | 0/7 [00:00<?, ?it/s]"
      ]
     },
     "metadata": {},
     "output_type": "display_data"
    },
    {
     "name": "stdout",
     "output_type": "stream",
     "text": [
      "Generating image from output-frames\\frame_0035.png and saving as output-frames\\frame_0036.png...\n"
     ]
    },
    {
     "data": {
      "application/vnd.jupyter.widget-view+json": {
       "model_id": "4be70217bc2e43318e91f0f05cd1e166",
       "version_major": 2,
       "version_minor": 0
      },
      "text/plain": [
       "  0%|          | 0/7 [00:00<?, ?it/s]"
      ]
     },
     "metadata": {},
     "output_type": "display_data"
    },
    {
     "name": "stdout",
     "output_type": "stream",
     "text": [
      "Generating image from output-frames\\frame_0036.png and saving as output-frames\\frame_0037.png...\n"
     ]
    },
    {
     "data": {
      "application/vnd.jupyter.widget-view+json": {
       "model_id": "4dc12b40b35b4770bdcf6665466fed0f",
       "version_major": 2,
       "version_minor": 0
      },
      "text/plain": [
       "  0%|          | 0/7 [00:00<?, ?it/s]"
      ]
     },
     "metadata": {},
     "output_type": "display_data"
    },
    {
     "name": "stdout",
     "output_type": "stream",
     "text": [
      "Generating image from output-frames\\frame_0037.png and saving as output-frames\\frame_0038.png...\n"
     ]
    },
    {
     "data": {
      "application/vnd.jupyter.widget-view+json": {
       "model_id": "940de0e1e0a04356ac351e04abc69d1a",
       "version_major": 2,
       "version_minor": 0
      },
      "text/plain": [
       "  0%|          | 0/7 [00:00<?, ?it/s]"
      ]
     },
     "metadata": {},
     "output_type": "display_data"
    },
    {
     "name": "stdout",
     "output_type": "stream",
     "text": [
      "Generating image from output-frames\\frame_0038.png and saving as output-frames\\frame_0039.png...\n"
     ]
    },
    {
     "data": {
      "application/vnd.jupyter.widget-view+json": {
       "model_id": "5b16f83fb2ec42a88ab9a2df04ab16d4",
       "version_major": 2,
       "version_minor": 0
      },
      "text/plain": [
       "  0%|          | 0/7 [00:00<?, ?it/s]"
      ]
     },
     "metadata": {},
     "output_type": "display_data"
    },
    {
     "name": "stdout",
     "output_type": "stream",
     "text": [
      "Generating image from output-frames\\frame_0039.png and saving as output-frames\\frame_0040.png...\n"
     ]
    },
    {
     "data": {
      "application/vnd.jupyter.widget-view+json": {
       "model_id": "5ae47da2315e4e85922bb6fb77a3810b",
       "version_major": 2,
       "version_minor": 0
      },
      "text/plain": [
       "  0%|          | 0/7 [00:00<?, ?it/s]"
      ]
     },
     "metadata": {},
     "output_type": "display_data"
    },
    {
     "name": "stdout",
     "output_type": "stream",
     "text": [
      "Generating image from output-frames\\frame_0040.png and saving as output-frames\\frame_0041.png...\n"
     ]
    },
    {
     "data": {
      "application/vnd.jupyter.widget-view+json": {
       "model_id": "7af604447ef34549b9b1bbce1892ecba",
       "version_major": 2,
       "version_minor": 0
      },
      "text/plain": [
       "  0%|          | 0/7 [00:00<?, ?it/s]"
      ]
     },
     "metadata": {},
     "output_type": "display_data"
    },
    {
     "name": "stdout",
     "output_type": "stream",
     "text": [
      "Generating image from output-frames\\frame_0041.png and saving as output-frames\\frame_0042.png...\n"
     ]
    },
    {
     "data": {
      "application/vnd.jupyter.widget-view+json": {
       "model_id": "c64a46db15ea48bbb8f24e432dc00bdc",
       "version_major": 2,
       "version_minor": 0
      },
      "text/plain": [
       "  0%|          | 0/7 [00:00<?, ?it/s]"
      ]
     },
     "metadata": {},
     "output_type": "display_data"
    },
    {
     "name": "stdout",
     "output_type": "stream",
     "text": [
      "Generating image from output-frames\\frame_0042.png and saving as output-frames\\frame_0043.png...\n"
     ]
    },
    {
     "data": {
      "application/vnd.jupyter.widget-view+json": {
       "model_id": "7940f1805b2d425fa72dfe46f72918a7",
       "version_major": 2,
       "version_minor": 0
      },
      "text/plain": [
       "  0%|          | 0/7 [00:00<?, ?it/s]"
      ]
     },
     "metadata": {},
     "output_type": "display_data"
    },
    {
     "name": "stdout",
     "output_type": "stream",
     "text": [
      "Generating image from output-frames\\frame_0043.png and saving as output-frames\\frame_0044.png...\n"
     ]
    },
    {
     "data": {
      "application/vnd.jupyter.widget-view+json": {
       "model_id": "2a52e2ddc3c8418bafbe3c7ee0945098",
       "version_major": 2,
       "version_minor": 0
      },
      "text/plain": [
       "  0%|          | 0/7 [00:00<?, ?it/s]"
      ]
     },
     "metadata": {},
     "output_type": "display_data"
    },
    {
     "name": "stdout",
     "output_type": "stream",
     "text": [
      "Generating image from output-frames\\frame_0044.png and saving as output-frames\\frame_0045.png...\n"
     ]
    },
    {
     "data": {
      "application/vnd.jupyter.widget-view+json": {
       "model_id": "e49a24a8b3dd46e7a046558aacbcac7a",
       "version_major": 2,
       "version_minor": 0
      },
      "text/plain": [
       "  0%|          | 0/7 [00:00<?, ?it/s]"
      ]
     },
     "metadata": {},
     "output_type": "display_data"
    },
    {
     "name": "stdout",
     "output_type": "stream",
     "text": [
      "Generating image from output-frames\\frame_0045.png and saving as output-frames\\frame_0046.png...\n"
     ]
    },
    {
     "data": {
      "application/vnd.jupyter.widget-view+json": {
       "model_id": "efba9525004a45e19669a4a674f7f450",
       "version_major": 2,
       "version_minor": 0
      },
      "text/plain": [
       "  0%|          | 0/7 [00:00<?, ?it/s]"
      ]
     },
     "metadata": {},
     "output_type": "display_data"
    },
    {
     "name": "stdout",
     "output_type": "stream",
     "text": [
      "Generating image from output-frames\\frame_0046.png and saving as output-frames\\frame_0047.png...\n"
     ]
    },
    {
     "data": {
      "application/vnd.jupyter.widget-view+json": {
       "model_id": "c98f970e57814830932ec9f5a0e0f299",
       "version_major": 2,
       "version_minor": 0
      },
      "text/plain": [
       "  0%|          | 0/7 [00:00<?, ?it/s]"
      ]
     },
     "metadata": {},
     "output_type": "display_data"
    },
    {
     "name": "stdout",
     "output_type": "stream",
     "text": [
      "Generating image from output-frames\\frame_0047.png and saving as output-frames\\frame_0048.png...\n"
     ]
    },
    {
     "data": {
      "application/vnd.jupyter.widget-view+json": {
       "model_id": "26be09af637a4c1f90670464bdc20599",
       "version_major": 2,
       "version_minor": 0
      },
      "text/plain": [
       "  0%|          | 0/7 [00:00<?, ?it/s]"
      ]
     },
     "metadata": {},
     "output_type": "display_data"
    },
    {
     "name": "stdout",
     "output_type": "stream",
     "text": [
      "Generating image from output-frames\\frame_0048.png and saving as output-frames\\frame_0049.png...\n"
     ]
    },
    {
     "data": {
      "application/vnd.jupyter.widget-view+json": {
       "model_id": "025feca2a52345a9aa0814d62a45535d",
       "version_major": 2,
       "version_minor": 0
      },
      "text/plain": [
       "  0%|          | 0/7 [00:00<?, ?it/s]"
      ]
     },
     "metadata": {},
     "output_type": "display_data"
    },
    {
     "name": "stdout",
     "output_type": "stream",
     "text": [
      "Generating image from output-frames\\frame_0049.png and saving as output-frames\\frame_0050.png...\n"
     ]
    },
    {
     "data": {
      "application/vnd.jupyter.widget-view+json": {
       "model_id": "8b603d9f08a54710a9b3f1e64c12a2c4",
       "version_major": 2,
       "version_minor": 0
      },
      "text/plain": [
       "  0%|          | 0/7 [00:00<?, ?it/s]"
      ]
     },
     "metadata": {},
     "output_type": "display_data"
    },
    {
     "name": "stdout",
     "output_type": "stream",
     "text": [
      "Generating image from output-frames\\frame_0050.png and saving as output-frames\\frame_0051.png...\n"
     ]
    },
    {
     "data": {
      "application/vnd.jupyter.widget-view+json": {
       "model_id": "697f4f3fac5f4fe693d286cf993f5d39",
       "version_major": 2,
       "version_minor": 0
      },
      "text/plain": [
       "  0%|          | 0/7 [00:00<?, ?it/s]"
      ]
     },
     "metadata": {},
     "output_type": "display_data"
    },
    {
     "name": "stdout",
     "output_type": "stream",
     "text": [
      "Generating image from output-frames\\frame_0051.png and saving as output-frames\\frame_0052.png...\n"
     ]
    },
    {
     "data": {
      "application/vnd.jupyter.widget-view+json": {
       "model_id": "6e6c9a1007644cb2b5e1a03e24cce0eb",
       "version_major": 2,
       "version_minor": 0
      },
      "text/plain": [
       "  0%|          | 0/7 [00:00<?, ?it/s]"
      ]
     },
     "metadata": {},
     "output_type": "display_data"
    },
    {
     "name": "stdout",
     "output_type": "stream",
     "text": [
      "Generating image from output-frames\\frame_0052.png and saving as output-frames\\frame_0053.png...\n"
     ]
    },
    {
     "data": {
      "application/vnd.jupyter.widget-view+json": {
       "model_id": "294132f412334c5c8ab6cf2a71f6e121",
       "version_major": 2,
       "version_minor": 0
      },
      "text/plain": [
       "  0%|          | 0/7 [00:00<?, ?it/s]"
      ]
     },
     "metadata": {},
     "output_type": "display_data"
    },
    {
     "name": "stdout",
     "output_type": "stream",
     "text": [
      "Generating image from output-frames\\frame_0053.png and saving as output-frames\\frame_0054.png...\n"
     ]
    },
    {
     "data": {
      "application/vnd.jupyter.widget-view+json": {
       "model_id": "e5ad2c7b50f5421487981b61c3e219ad",
       "version_major": 2,
       "version_minor": 0
      },
      "text/plain": [
       "  0%|          | 0/7 [00:00<?, ?it/s]"
      ]
     },
     "metadata": {},
     "output_type": "display_data"
    },
    {
     "name": "stdout",
     "output_type": "stream",
     "text": [
      "Generating image from output-frames\\frame_0054.png and saving as output-frames\\frame_0055.png...\n"
     ]
    },
    {
     "data": {
      "application/vnd.jupyter.widget-view+json": {
       "model_id": "5463647d2b754df6b72487ede8c4e1fb",
       "version_major": 2,
       "version_minor": 0
      },
      "text/plain": [
       "  0%|          | 0/7 [00:00<?, ?it/s]"
      ]
     },
     "metadata": {},
     "output_type": "display_data"
    },
    {
     "name": "stdout",
     "output_type": "stream",
     "text": [
      "Generating image from output-frames\\frame_0055.png and saving as output-frames\\frame_0056.png...\n"
     ]
    },
    {
     "data": {
      "application/vnd.jupyter.widget-view+json": {
       "model_id": "ea059a92edd5409091c4b5b6019a1808",
       "version_major": 2,
       "version_minor": 0
      },
      "text/plain": [
       "  0%|          | 0/7 [00:00<?, ?it/s]"
      ]
     },
     "metadata": {},
     "output_type": "display_data"
    },
    {
     "name": "stdout",
     "output_type": "stream",
     "text": [
      "Generating image from output-frames\\frame_0056.png and saving as output-frames\\frame_0057.png...\n"
     ]
    },
    {
     "data": {
      "application/vnd.jupyter.widget-view+json": {
       "model_id": "63bb4a4c2d71482591b287ba2a589f3e",
       "version_major": 2,
       "version_minor": 0
      },
      "text/plain": [
       "  0%|          | 0/7 [00:00<?, ?it/s]"
      ]
     },
     "metadata": {},
     "output_type": "display_data"
    },
    {
     "name": "stdout",
     "output_type": "stream",
     "text": [
      "Generating image from output-frames\\frame_0057.png and saving as output-frames\\frame_0058.png...\n"
     ]
    },
    {
     "data": {
      "application/vnd.jupyter.widget-view+json": {
       "model_id": "779245df57254917a3bd9696985e3649",
       "version_major": 2,
       "version_minor": 0
      },
      "text/plain": [
       "  0%|          | 0/7 [00:00<?, ?it/s]"
      ]
     },
     "metadata": {},
     "output_type": "display_data"
    },
    {
     "name": "stdout",
     "output_type": "stream",
     "text": [
      "Generating image from output-frames\\frame_0058.png and saving as output-frames\\frame_0059.png...\n"
     ]
    },
    {
     "data": {
      "application/vnd.jupyter.widget-view+json": {
       "model_id": "4522066b11cc437a9a33b3e2b4a1fca9",
       "version_major": 2,
       "version_minor": 0
      },
      "text/plain": [
       "  0%|          | 0/7 [00:00<?, ?it/s]"
      ]
     },
     "metadata": {},
     "output_type": "display_data"
    },
    {
     "name": "stdout",
     "output_type": "stream",
     "text": [
      "Generating image from output-frames\\frame_0059.png and saving as output-frames\\frame_0060.png...\n"
     ]
    },
    {
     "data": {
      "application/vnd.jupyter.widget-view+json": {
       "model_id": "92114b380d6a4306bca0400662693fe0",
       "version_major": 2,
       "version_minor": 0
      },
      "text/plain": [
       "  0%|          | 0/7 [00:00<?, ?it/s]"
      ]
     },
     "metadata": {},
     "output_type": "display_data"
    },
    {
     "name": "stdout",
     "output_type": "stream",
     "text": [
      "Generating image from output-frames\\frame_0060.png and saving as output-frames\\frame_0061.png...\n"
     ]
    },
    {
     "data": {
      "application/vnd.jupyter.widget-view+json": {
       "model_id": "648b7811e6784cbe91d6ccc9376f27ae",
       "version_major": 2,
       "version_minor": 0
      },
      "text/plain": [
       "  0%|          | 0/7 [00:00<?, ?it/s]"
      ]
     },
     "metadata": {},
     "output_type": "display_data"
    },
    {
     "name": "stdout",
     "output_type": "stream",
     "text": [
      "Generating image from output-frames\\frame_0061.png and saving as output-frames\\frame_0062.png...\n"
     ]
    },
    {
     "data": {
      "application/vnd.jupyter.widget-view+json": {
       "model_id": "21ec1b430b9a43e78fe6437cee2afeac",
       "version_major": 2,
       "version_minor": 0
      },
      "text/plain": [
       "  0%|          | 0/7 [00:00<?, ?it/s]"
      ]
     },
     "metadata": {},
     "output_type": "display_data"
    },
    {
     "name": "stdout",
     "output_type": "stream",
     "text": [
      "Generating image from output-frames\\frame_0062.png and saving as output-frames\\frame_0063.png...\n"
     ]
    },
    {
     "data": {
      "application/vnd.jupyter.widget-view+json": {
       "model_id": "c182caa6834b4a7692903c81f1669271",
       "version_major": 2,
       "version_minor": 0
      },
      "text/plain": [
       "  0%|          | 0/7 [00:00<?, ?it/s]"
      ]
     },
     "metadata": {},
     "output_type": "display_data"
    },
    {
     "name": "stdout",
     "output_type": "stream",
     "text": [
      "Generating image from output-frames\\frame_0063.png and saving as output-frames\\frame_0064.png...\n"
     ]
    },
    {
     "data": {
      "application/vnd.jupyter.widget-view+json": {
       "model_id": "22acfbf09f884714aebf968a9da1be34",
       "version_major": 2,
       "version_minor": 0
      },
      "text/plain": [
       "  0%|          | 0/7 [00:00<?, ?it/s]"
      ]
     },
     "metadata": {},
     "output_type": "display_data"
    },
    {
     "name": "stdout",
     "output_type": "stream",
     "text": [
      "Generating image from output-frames\\frame_0064.png and saving as output-frames\\frame_0065.png...\n"
     ]
    },
    {
     "data": {
      "application/vnd.jupyter.widget-view+json": {
       "model_id": "3eba763e2abc478d9166a9d8566a4eea",
       "version_major": 2,
       "version_minor": 0
      },
      "text/plain": [
       "  0%|          | 0/7 [00:00<?, ?it/s]"
      ]
     },
     "metadata": {},
     "output_type": "display_data"
    },
    {
     "name": "stdout",
     "output_type": "stream",
     "text": [
      "Generating image from output-frames\\frame_0065.png and saving as output-frames\\frame_0066.png...\n"
     ]
    },
    {
     "data": {
      "application/vnd.jupyter.widget-view+json": {
       "model_id": "553c64ccd1fa471f9ea69a0053d6943b",
       "version_major": 2,
       "version_minor": 0
      },
      "text/plain": [
       "  0%|          | 0/7 [00:00<?, ?it/s]"
      ]
     },
     "metadata": {},
     "output_type": "display_data"
    },
    {
     "name": "stdout",
     "output_type": "stream",
     "text": [
      "Generating image from output-frames\\frame_0066.png and saving as output-frames\\frame_0067.png...\n"
     ]
    },
    {
     "data": {
      "application/vnd.jupyter.widget-view+json": {
       "model_id": "e69066d8a3b74cb7b74d96ff2f05e683",
       "version_major": 2,
       "version_minor": 0
      },
      "text/plain": [
       "  0%|          | 0/7 [00:00<?, ?it/s]"
      ]
     },
     "metadata": {},
     "output_type": "display_data"
    },
    {
     "name": "stdout",
     "output_type": "stream",
     "text": [
      "Generating image from output-frames\\frame_0067.png and saving as output-frames\\frame_0068.png...\n"
     ]
    },
    {
     "data": {
      "application/vnd.jupyter.widget-view+json": {
       "model_id": "10b30a99126a4c57a514a5b33f3c6f91",
       "version_major": 2,
       "version_minor": 0
      },
      "text/plain": [
       "  0%|          | 0/7 [00:00<?, ?it/s]"
      ]
     },
     "metadata": {},
     "output_type": "display_data"
    },
    {
     "name": "stdout",
     "output_type": "stream",
     "text": [
      "Generating image from output-frames\\frame_0068.png and saving as output-frames\\frame_0069.png...\n"
     ]
    },
    {
     "data": {
      "application/vnd.jupyter.widget-view+json": {
       "model_id": "01f6a72a4c304c479a49f3d79bac392e",
       "version_major": 2,
       "version_minor": 0
      },
      "text/plain": [
       "  0%|          | 0/7 [00:00<?, ?it/s]"
      ]
     },
     "metadata": {},
     "output_type": "display_data"
    },
    {
     "name": "stdout",
     "output_type": "stream",
     "text": [
      "Generating image from output-frames\\frame_0069.png and saving as output-frames\\frame_0070.png...\n"
     ]
    },
    {
     "data": {
      "application/vnd.jupyter.widget-view+json": {
       "model_id": "cc14ffc94e5e40ceb596eb3578d430be",
       "version_major": 2,
       "version_minor": 0
      },
      "text/plain": [
       "  0%|          | 0/7 [00:00<?, ?it/s]"
      ]
     },
     "metadata": {},
     "output_type": "display_data"
    },
    {
     "name": "stdout",
     "output_type": "stream",
     "text": [
      "Generating image from output-frames\\frame_0070.png and saving as output-frames\\frame_0071.png...\n"
     ]
    },
    {
     "data": {
      "application/vnd.jupyter.widget-view+json": {
       "model_id": "673a84d60f294d7cb4f9dc42e103e038",
       "version_major": 2,
       "version_minor": 0
      },
      "text/plain": [
       "  0%|          | 0/7 [00:00<?, ?it/s]"
      ]
     },
     "metadata": {},
     "output_type": "display_data"
    },
    {
     "name": "stdout",
     "output_type": "stream",
     "text": [
      "Generating image from output-frames\\frame_0071.png and saving as output-frames\\frame_0072.png...\n"
     ]
    },
    {
     "data": {
      "application/vnd.jupyter.widget-view+json": {
       "model_id": "788d7aac48e643568bd5eb508ee84da4",
       "version_major": 2,
       "version_minor": 0
      },
      "text/plain": [
       "  0%|          | 0/7 [00:00<?, ?it/s]"
      ]
     },
     "metadata": {},
     "output_type": "display_data"
    },
    {
     "name": "stdout",
     "output_type": "stream",
     "text": [
      "Generating image from output-frames\\frame_0072.png and saving as output-frames\\frame_0073.png...\n"
     ]
    },
    {
     "data": {
      "application/vnd.jupyter.widget-view+json": {
       "model_id": "1b80faae152e44c68824b5035bc85aac",
       "version_major": 2,
       "version_minor": 0
      },
      "text/plain": [
       "  0%|          | 0/7 [00:00<?, ?it/s]"
      ]
     },
     "metadata": {},
     "output_type": "display_data"
    },
    {
     "name": "stdout",
     "output_type": "stream",
     "text": [
      "Generating image from output-frames\\frame_0073.png and saving as output-frames\\frame_0074.png...\n"
     ]
    },
    {
     "data": {
      "application/vnd.jupyter.widget-view+json": {
       "model_id": "7727fb50084441529f54d1deda70dc0e",
       "version_major": 2,
       "version_minor": 0
      },
      "text/plain": [
       "  0%|          | 0/7 [00:00<?, ?it/s]"
      ]
     },
     "metadata": {},
     "output_type": "display_data"
    },
    {
     "name": "stdout",
     "output_type": "stream",
     "text": [
      "Generating image from output-frames\\frame_0074.png and saving as output-frames\\frame_0075.png...\n"
     ]
    },
    {
     "data": {
      "application/vnd.jupyter.widget-view+json": {
       "model_id": "9ff0568c9c42461a844cdaa64806d8e2",
       "version_major": 2,
       "version_minor": 0
      },
      "text/plain": [
       "  0%|          | 0/7 [00:00<?, ?it/s]"
      ]
     },
     "metadata": {},
     "output_type": "display_data"
    },
    {
     "name": "stdout",
     "output_type": "stream",
     "text": [
      "Generating image from output-frames\\frame_0075.png and saving as output-frames\\frame_0076.png...\n"
     ]
    },
    {
     "data": {
      "application/vnd.jupyter.widget-view+json": {
       "model_id": "885ff0ff5ba346c39b9cd61ef86ecc71",
       "version_major": 2,
       "version_minor": 0
      },
      "text/plain": [
       "  0%|          | 0/7 [00:00<?, ?it/s]"
      ]
     },
     "metadata": {},
     "output_type": "display_data"
    },
    {
     "name": "stdout",
     "output_type": "stream",
     "text": [
      "Generating image from output-frames\\frame_0076.png and saving as output-frames\\frame_0077.png...\n"
     ]
    },
    {
     "data": {
      "application/vnd.jupyter.widget-view+json": {
       "model_id": "87986cd06a094963bb89ab3cb98cf1e4",
       "version_major": 2,
       "version_minor": 0
      },
      "text/plain": [
       "  0%|          | 0/7 [00:00<?, ?it/s]"
      ]
     },
     "metadata": {},
     "output_type": "display_data"
    },
    {
     "name": "stdout",
     "output_type": "stream",
     "text": [
      "Generating image from output-frames\\frame_0077.png and saving as output-frames\\frame_0078.png...\n"
     ]
    },
    {
     "data": {
      "application/vnd.jupyter.widget-view+json": {
       "model_id": "1b43ac2331ff455c9a6c0560fcbbe1cb",
       "version_major": 2,
       "version_minor": 0
      },
      "text/plain": [
       "  0%|          | 0/7 [00:00<?, ?it/s]"
      ]
     },
     "metadata": {},
     "output_type": "display_data"
    },
    {
     "name": "stdout",
     "output_type": "stream",
     "text": [
      "Generating image from output-frames\\frame_0078.png and saving as output-frames\\frame_0079.png...\n"
     ]
    },
    {
     "data": {
      "application/vnd.jupyter.widget-view+json": {
       "model_id": "9169b591f84a4efa9786310f6c4c2846",
       "version_major": 2,
       "version_minor": 0
      },
      "text/plain": [
       "  0%|          | 0/7 [00:00<?, ?it/s]"
      ]
     },
     "metadata": {},
     "output_type": "display_data"
    },
    {
     "name": "stdout",
     "output_type": "stream",
     "text": [
      "Generating image from output-frames\\frame_0079.png and saving as output-frames\\frame_0080.png...\n"
     ]
    },
    {
     "data": {
      "application/vnd.jupyter.widget-view+json": {
       "model_id": "9fe3c5e39bee495da35926825e162a37",
       "version_major": 2,
       "version_minor": 0
      },
      "text/plain": [
       "  0%|          | 0/7 [00:00<?, ?it/s]"
      ]
     },
     "metadata": {},
     "output_type": "display_data"
    },
    {
     "name": "stdout",
     "output_type": "stream",
     "text": [
      "Generating image from output-frames\\frame_0080.png and saving as output-frames\\frame_0081.png...\n"
     ]
    },
    {
     "data": {
      "application/vnd.jupyter.widget-view+json": {
       "model_id": "9cede3f5bf9c4aeb86a32ba0e6904fcf",
       "version_major": 2,
       "version_minor": 0
      },
      "text/plain": [
       "  0%|          | 0/7 [00:00<?, ?it/s]"
      ]
     },
     "metadata": {},
     "output_type": "display_data"
    },
    {
     "name": "stdout",
     "output_type": "stream",
     "text": [
      "Generating image from output-frames\\frame_0081.png and saving as output-frames\\frame_0082.png...\n"
     ]
    },
    {
     "data": {
      "application/vnd.jupyter.widget-view+json": {
       "model_id": "5ff07c7a03c545ceaf5297a71736f52d",
       "version_major": 2,
       "version_minor": 0
      },
      "text/plain": [
       "  0%|          | 0/7 [00:00<?, ?it/s]"
      ]
     },
     "metadata": {},
     "output_type": "display_data"
    },
    {
     "name": "stdout",
     "output_type": "stream",
     "text": [
      "Generating image from output-frames\\frame_0082.png and saving as output-frames\\frame_0083.png...\n"
     ]
    },
    {
     "data": {
      "application/vnd.jupyter.widget-view+json": {
       "model_id": "7a78a5faa7d54fd7a182091a0f9acfcf",
       "version_major": 2,
       "version_minor": 0
      },
      "text/plain": [
       "  0%|          | 0/7 [00:00<?, ?it/s]"
      ]
     },
     "metadata": {},
     "output_type": "display_data"
    },
    {
     "name": "stdout",
     "output_type": "stream",
     "text": [
      "Generating image from output-frames\\frame_0083.png and saving as output-frames\\frame_0084.png...\n"
     ]
    },
    {
     "data": {
      "application/vnd.jupyter.widget-view+json": {
       "model_id": "d97f0664b3214af6b56251d5b776cdca",
       "version_major": 2,
       "version_minor": 0
      },
      "text/plain": [
       "  0%|          | 0/7 [00:00<?, ?it/s]"
      ]
     },
     "metadata": {},
     "output_type": "display_data"
    },
    {
     "name": "stdout",
     "output_type": "stream",
     "text": [
      "Generating image from output-frames\\frame_0084.png and saving as output-frames\\frame_0085.png...\n"
     ]
    },
    {
     "data": {
      "application/vnd.jupyter.widget-view+json": {
       "model_id": "0a827a14fde54199ac1513c0d8a87787",
       "version_major": 2,
       "version_minor": 0
      },
      "text/plain": [
       "  0%|          | 0/7 [00:00<?, ?it/s]"
      ]
     },
     "metadata": {},
     "output_type": "display_data"
    },
    {
     "name": "stdout",
     "output_type": "stream",
     "text": [
      "Generating image from output-frames\\frame_0085.png and saving as output-frames\\frame_0086.png...\n"
     ]
    },
    {
     "data": {
      "application/vnd.jupyter.widget-view+json": {
       "model_id": "dacf74c393c0467dab2cad2ae1b71a8d",
       "version_major": 2,
       "version_minor": 0
      },
      "text/plain": [
       "  0%|          | 0/7 [00:00<?, ?it/s]"
      ]
     },
     "metadata": {},
     "output_type": "display_data"
    },
    {
     "name": "stdout",
     "output_type": "stream",
     "text": [
      "Generating image from output-frames\\frame_0086.png and saving as output-frames\\frame_0087.png...\n"
     ]
    },
    {
     "data": {
      "application/vnd.jupyter.widget-view+json": {
       "model_id": "4eb4d0adcbc34226b574762a6a3183ef",
       "version_major": 2,
       "version_minor": 0
      },
      "text/plain": [
       "  0%|          | 0/7 [00:00<?, ?it/s]"
      ]
     },
     "metadata": {},
     "output_type": "display_data"
    },
    {
     "name": "stdout",
     "output_type": "stream",
     "text": [
      "Generating image from output-frames\\frame_0087.png and saving as output-frames\\frame_0088.png...\n"
     ]
    },
    {
     "data": {
      "application/vnd.jupyter.widget-view+json": {
       "model_id": "5a772e978de149eea6eb25f43188c9b9",
       "version_major": 2,
       "version_minor": 0
      },
      "text/plain": [
       "  0%|          | 0/7 [00:00<?, ?it/s]"
      ]
     },
     "metadata": {},
     "output_type": "display_data"
    },
    {
     "name": "stdout",
     "output_type": "stream",
     "text": [
      "Generating image from output-frames\\frame_0088.png and saving as output-frames\\frame_0089.png...\n"
     ]
    },
    {
     "data": {
      "application/vnd.jupyter.widget-view+json": {
       "model_id": "e948642c383a428a8e965460d8908e6d",
       "version_major": 2,
       "version_minor": 0
      },
      "text/plain": [
       "  0%|          | 0/7 [00:00<?, ?it/s]"
      ]
     },
     "metadata": {},
     "output_type": "display_data"
    },
    {
     "name": "stdout",
     "output_type": "stream",
     "text": [
      "Generating image from output-frames\\frame_0089.png and saving as output-frames\\frame_0090.png...\n"
     ]
    },
    {
     "data": {
      "application/vnd.jupyter.widget-view+json": {
       "model_id": "bd778cb948f442ca9a15aefc14768aea",
       "version_major": 2,
       "version_minor": 0
      },
      "text/plain": [
       "  0%|          | 0/7 [00:00<?, ?it/s]"
      ]
     },
     "metadata": {},
     "output_type": "display_data"
    },
    {
     "name": "stdout",
     "output_type": "stream",
     "text": [
      "Generating image from output-frames\\frame_0090.png and saving as output-frames\\frame_0091.png...\n"
     ]
    },
    {
     "data": {
      "application/vnd.jupyter.widget-view+json": {
       "model_id": "5fd77b6923984086b096c8aba8f752fb",
       "version_major": 2,
       "version_minor": 0
      },
      "text/plain": [
       "  0%|          | 0/7 [00:00<?, ?it/s]"
      ]
     },
     "metadata": {},
     "output_type": "display_data"
    },
    {
     "name": "stdout",
     "output_type": "stream",
     "text": [
      "Execution time -- 188.7 seconds\n",
      "\n"
     ]
    }
   ],
   "source": [
    "# main function to generate the images\n",
    "\n",
    "if not args.skip_frame_generation:\n",
    "    if not os.path.exists(SD15_MODEL):\n",
    "        raise FileNotFoundError(f\"Model file not found at {SD15_MODEL}. Please check the path and try again.\")\n",
    "    \n",
    "    img2img_pipeline, text_pipeline = get_pipeline()\n",
    "    print('pipelines have been gotten!')\n",
    "    if not os.path.exists(args.output_path):\n",
    "        os.makedirs(args.output_path)\n",
    "\n",
    "    if args.init_image:\n",
    "        # get initial image\n",
    "        src_image = args.init_image\n",
    "\n",
    "        # copy the initial image to the output path as frame 0\n",
    "        init_image = Image.open(src_image).convert(\"RGB\")\n",
    "        init_image = init_image.resize((512,512))\n",
    "        init_image.save(os.path.join(args.output_path, f'frame_{\"0\".zfill(4)}.png'))\n",
    "\n",
    "    else:\n",
    "        # generate first image from prompt\n",
    "        #fn_check_pipeline()\n",
    "        text_pipeline.enable_model_cpu_offload() # this MASSIVELY speeds up inference\n",
    "        # next line doesn't work :(\n",
    "        #text_pipeline.enable_xformers_memory_efficient_attention(attention_op=MemoryEfficientAttentionFlashAttentionOp)\n",
    "        outimage = fn_generate(None, args.prompt, text_pipeline)\n",
    "        outpath = os.path.join(args.output_path, f'frame_{\"0\".zfill(4)}.png')\n",
    "        outimage.save(outpath)\n",
    "        src_image = outpath\n",
    "\n",
    "    \n",
    "    # Generate the images\n",
    "    print ('starting the clock!...')\n",
    "    tick = time.time_ns()\n",
    "\n",
    "    for frame_num in range(args.count + 1):\n",
    "        frame_id = str(frame_num + 1).zfill(4)\n",
    "        file = os.path.join(args.output_path, f\"frame_{frame_id}.png\")\n",
    "\n",
    "        print(f\"Generating image from {src_image} and saving as {file}...\")\n",
    "        outimage = fn_generate(src_image, args.prompt, img2img_pipeline)\n",
    "        \n",
    "        outimage.save(file)       # save the ORIGINAL image FIRST\n",
    "\n",
    "        #APPLY TRANSFORMS HERE\n",
    "        #=====================\n",
    "        trans_image = fn_transform_frame(np.array(outimage),zoom_fac) # convert to numpy array    \n",
    "        trans_image.save(file)    # save the transformed image\n",
    "        src_image = file          # set the source image for the next iteration\n",
    "    \n",
    "    tock = time.time_ns()\n",
    "    baseline = f\"{(tock - tick) / 1e9:.1f}\" # convert to seconds\n",
    "    print(f\"Execution time -- {baseline} seconds\\n\")"
   ]
  },
  {
   "cell_type": "code",
   "execution_count": 9,
   "metadata": {},
   "outputs": [
    {
     "name": "stdout",
     "output_type": "stream",
     "text": [
      "loaded 10 of 91 frames...\n",
      "loaded 20 of 91 frames...\n"
     ]
    },
    {
     "name": "stderr",
     "output_type": "stream",
     "text": [
      "C:\\Users\\richm\\AppData\\Local\\Temp\\ipykernel_2904\\820672606.py:6: DeprecationWarning: Starting with ImageIO v3 the behavior of this function will switch to that of iio.v3.imread. To keep the current behavior (and make this warning disappear) use `import imageio.v2 as imageio` or call `imageio.v2.imread` directly.\n",
      "  images.append( imageio.imread( os.path.join(args.output_path, f\"frame_{str(i).zfill(4)}.png\") ) )\n"
     ]
    },
    {
     "name": "stdout",
     "output_type": "stream",
     "text": [
      "loaded 30 of 91 frames...\n",
      "loaded 40 of 91 frames...\n",
      "loaded 50 of 91 frames...\n",
      "loaded 60 of 91 frames...\n",
      "loaded 70 of 91 frames...\n",
      "loaded 80 of 91 frames...\n",
      "loaded 90 of 91 frames...\n",
      "all done. output.avi saved\n"
     ]
    }
   ],
   "source": [
    "# post-processing\n",
    "images = []\n",
    "# maybe skip first frame, since it can be overpowering? \n",
    "# gather all the frames\n",
    "for i in range(1, args.count + 1):\n",
    "    images.append( imageio.imread( os.path.join(args.output_path, f\"frame_{str(i).zfill(4)}.png\") ) )\n",
    "    if i % 10 == 0:\n",
    "        print(f\"loaded {i} of {args.count+1} frames...\")\n",
    "\n",
    "imageio.mimsave(\"output.avi\", images, fps=12)\n",
    "print('all done. output.avi saved')"
   ]
  }
 ],
 "metadata": {
  "kernelspec": {
   "display_name": "myDLvenv1",
   "language": "python",
   "name": "python3"
  },
  "language_info": {
   "codemirror_mode": {
    "name": "ipython",
    "version": 3
   },
   "file_extension": ".py",
   "mimetype": "text/x-python",
   "name": "python",
   "nbconvert_exporter": "python",
   "pygments_lexer": "ipython3",
   "version": "3.10.6"
  }
 },
 "nbformat": 4,
 "nbformat_minor": 2
}
