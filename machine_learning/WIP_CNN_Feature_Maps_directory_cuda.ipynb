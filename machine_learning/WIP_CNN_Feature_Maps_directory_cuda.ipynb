{
  "cells": [],
  "metadata": {
    "kernelspec": {
      "display_name": "venv_mycoding",
      "language": "python",
      "name": "venv_mycoding"
    },
    "language_info": {
      "name": "python",
      "version": "3.10.6"
    }
  },
  "nbformat": 4,
  "nbformat_minor": 5
}